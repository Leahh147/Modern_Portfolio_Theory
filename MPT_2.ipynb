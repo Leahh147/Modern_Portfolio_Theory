{
 "cells": [
  {
   "cell_type": "code",
   "execution_count": null,
   "id": "943a3a32",
   "metadata": {},
   "outputs": [
    {
     "name": "stdout",
     "output_type": "stream",
     "text": [
      "Optimal weights: [ 0.30703499  0.240804    0.15664028 -0.00862978  0.12955605 -0.01555313\n",
      "  0.0731903   0.09871316  0.03926244 -0.02101831]\n",
      "Expected return: 0.1357194054298252\n",
      "Portfolio risk: 0.17500720991322907\n"
     ]
    }
   ],
   "source": [
    "import numpy as np\n",
    "from scipy.optimize import minimize\n",
    "\n",
    "# Define the inputs for the MPT optimization problem\n",
    "returns = np.array([0.1, 0.15, 0.2, 0.08, 0.12, 0.07, 0.18, 0.09, 0.13, 0.16])  # expected returns\n",
    "covariance = np.array([[0.04, 0.01, 0.02, 0.03, 0.01, 0.02, 0.03, 0.01, 0.02, 0.04],\n",
    "                       [0.01, 0.09, 0.03, 0.02, 0.02, 0.01, 0.02, 0.01, 0.03, 0.05],\n",
    "                       [0.02, 0.03, 0.16, 0.01, 0.03, 0.02, 0.04, 0.02, 0.03, 0.06],\n",
    "                       [0.03, 0.02, 0.01, 0.25, 0.01, 0.03, 0.01, 0.02, 0.01, 0.03],\n",
    "                       [0.01, 0.02, 0.03, 0.01, 0.09, 0.01, 0.02, 0.01, 0.02, 0.03],\n",
    "                       [0.02, 0.01, 0.02, 0.03, 0.01, 0.16, 0.03, 0.02, 0.01, 0.03],\n",
    "                       [0.03, 0.02, 0.04, 0.01, 0.02, 0.03, 0.25, 0.01, 0.02, 0.04],\n",
    "                       [0.01, 0.01, 0.02, 0.02, 0.01, 0.02, 0.01, 0.09, 0.02, 0.03],\n",
    "                       [0.02, 0.03, 0.03, 0.01, 0.02, 0.01, 0.02, 0.02, 0.16, 0.04],\n",
    "                       [0.04, 0.05, 0.06, 0.03, 0.03, 0.03, 0.04, 0.03, 0.04, 0.36]])  # covariance matrix\n",
    "\n",
    "risk_tolerance = .5  # the desired level of risk tolerance\n",
    "\n",
    "# Define the objective function to minimize\n",
    "def objective_function(weights):\n",
    "    return weights.T @ covariance @ weights - risk_tolerance * returns.T @ weights\n",
    "\n",
    "# Define the constraints\n",
    "constraints = [{'type': 'eq', 'fun': lambda weights: np.sum(weights) - 1.0}]   # weights sum up to 1\n",
    "\n",
    "# Define the bounds\n",
    "bounds = [(None, None)] * len(returns)  # no bounds on weights\n",
    "\n",
    "# Solve the optimization problem\n",
    "result = minimize(fun=objective_function, x0=np.ones(len(returns)) / len(returns), method=\"SLSQP\", constraints=constraints)\n",
    "# Extract the optimal weights\n",
    "weights = result.x\n",
    "\n",
    "# Print the results\n",
    "print(\"Optimal weights:\", weights)\n",
    "print(\"Expected return:\", np.dot(returns.T, weights))\n",
    "print(\"Portfolio risk:\", np.sqrt(np.dot(weights.T, np.dot(covariance, weights))))"
   ]
  },
  {
   "cell_type": "code",
   "execution_count": null,
   "id": "ff8807b3",
   "metadata": {},
   "outputs": [],
   "source": [
    "\n"
   ]
  },
  {
   "cell_type": "code",
   "execution_count": null,
   "id": "be59ab75",
   "metadata": {},
   "outputs": [],
   "source": []
  },
  {
   "cell_type": "code",
   "execution_count": null,
   "id": "81dbcfa2",
   "metadata": {},
   "outputs": [],
   "source": []
  }
 ],
 "metadata": {
  "kernelspec": {
   "display_name": "Python 3",
   "language": "python",
   "name": "python3"
  },
  "language_info": {
   "codemirror_mode": {
    "name": "ipython",
    "version": 3
   },
   "file_extension": ".py",
   "mimetype": "text/x-python",
   "name": "python",
   "nbconvert_exporter": "python",
   "pygments_lexer": "ipython3",
   "version": "3.11.2 (v3.11.2:878ead1ac1, Feb  7 2023, 10:02:41) [Clang 13.0.0 (clang-1300.0.29.30)]"
  },
  "vscode": {
   "interpreter": {
    "hash": "aee8b7b246df8f9039afb4144a1f6fd8d2ca17a180786b69acc140d282b71a49"
   }
  }
 },
 "nbformat": 4,
 "nbformat_minor": 5
}
